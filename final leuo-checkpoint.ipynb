{
 "cells": [
  {
   "cell_type": "code",
   "execution_count": 6,
   "metadata": {},
   "outputs": [
    {
     "data": {
      "text/plain": [
       "<__main__.application at 0x2be44dc1fd0>"
      ]
     },
     "execution_count": 6,
     "metadata": {},
     "output_type": "execute_result"
    }
   ],
   "source": [
    "from tkinter import * #to use every options in tkinter\n",
    "from tkinter import filedialog \n",
    "from tkinter import messagebox \n",
    "import PIL \n",
    "from PIL import ImageTk, Image\n",
    "\n",
    "    \n",
    "#Main Class Object\n",
    "class application:\n",
    "    def __init__(self,master):\n",
    "        self.master = master\n",
    "        self.c_size = (500,300)\n",
    "        self.setup_gui(self.c_size)\n",
    "        self.img=None\n",
    " \n",
    "    def setup_gui(self,s):\n",
    "        Label(self.master,text = 'Leukemia detection and classification for its 4 categories',pady=5,bg='gray',fg='white',\n",
    "         font=\"times 25 bold\").grid(columnspan=4, row=0, sticky=W)\n",
    "        \n",
    "        self.canvas = Canvas(self.master,height=s[1],width=s[0],\n",
    "            bg='black',bd=10,relief='ridge')\n",
    "        self.canvas.grid(column=1,row=2,columnspan=1,rowspan=3)\n",
    "        txt = '''          \n",
    "                                                 Image\n",
    "        '''\n",
    "        self.wt = self.canvas.create_text(s[0]/2-270,s[1]/2,text=txt\n",
    "            ,font=('',30),fill='white')\n",
    "        \n",
    "        #creat button to choose image\n",
    "        Image_but=Button(window,text='Choose an Image',font=(\"times 20 bold\") ,command=self.make_image).grid(column=0,row=2)\n",
    "        \n",
    "        #status lable to show the path of selected image\n",
    "        self.status=Label(self.master,text = 'Current Image: None',\n",
    "            font=('Ubuntu',15),bd=2,fg='black',relief='solid')\n",
    "        self.status.grid(sticky=S,row=8,column=0,columnspan=2)\n",
    " \n",
    "    #bulid function to display image\n",
    "\n",
    "    def make_image(self):\n",
    "        try:\n",
    "            File = filedialog.askopenfilename(parent=window,\n",
    "                initialdir='D:\\\\leukemia\\\\data\\\\Data ',\n",
    "                title='Choose image',\n",
    "                filetypes=[('png images', '.png'),(\"jpg Images\",'.jpg'),\n",
    "                   ('gif images', '.gif'),(\"all images\",\"*.*\")]\n",
    "                                     )\n",
    "            self.pilImage = Image.open(File)\n",
    "            resize=self.pilImage.resize((300,300),Image.ANTIALIAS)\n",
    "            self.img = ImageTk.PhotoImage(resize)\n",
    "            self.canvas.delete(ALL)\n",
    "            self.canvas.create_image(self.c_size[0]/2+10,self.c_size[1]/2+10,\n",
    "                anchor=CENTER,image=self.img)\n",
    "            self.status['text']='Current Image:'+File\n",
    "        except:\n",
    "            messagebox.showerror('Error!','File type is unsupported.')\n",
    " \n",
    " \n",
    "#creating object of class and tk window-\n",
    "window=Tk() # create the GUI window\n",
    "window.geometry=(1200,600)\n",
    "window.configure(bg='gray')\n",
    "\n",
    "window.title('leukemia detection and classification') #window title\n",
    "application(window)\n",
    "        \n"
   ]
  },
  {
   "cell_type": "code",
   "execution_count": 7,
   "metadata": {},
   "outputs": [],
   "source": [
    "# Quit button in the lower right corner\n",
    "import tkinter \n",
    "from tkinter import messagebox\n",
    "\n",
    "def ExitApplication():\n",
    "    MsgBox = messagebox.askquestion ('Exit Application','Are you sure you want to exit the application',icon = 'warning')\n",
    "    if MsgBox == 'yes':\n",
    "      window.destroy()\n",
    "    else:\n",
    "        messagebox.showinfo('Return','You will now return to the application screen')\n",
    "        \n",
    "quit_button = Button(window, text=\"Quit\",font=\"times 20 bold\",borderwidth=1,width=10,command=ExitApplication)\n",
    "quit_button.grid(column=5,row=8)\n"
   ]
  },
  {
   "cell_type": "code",
   "execution_count": 8,
   "metadata": {},
   "outputs": [],
   "source": [
    "#creat load model button\n",
    "\n",
    "load_model = Button(window, text='Load model', width=10,font=\"times 20 bold\",borderwidth=1)\n",
    "load_model.grid(column=0,row=3)\n"
   ]
  },
  {
   "cell_type": "code",
   "execution_count": 9,
   "metadata": {},
   "outputs": [],
   "source": [
    "#creat output parameters labels\n",
    "\n",
    "output=Label(window,text='Output Parameters',font=\"times 20 bold \",borderwidth=1,relief='ridge')\n",
    "acc=Label(window,text='Accuracy',font=\"times 20 \",width=10,borderwidth=1,relief='ridge')\n",
    "acc_val=Label(window,text='Val.Accuracy',font=\"times 20 \",width=10,borderwidth=1,relief='ridge')\n",
    "loss=Label(window,text='Loss',font=\"times 20 \",width=10,borderwidth=1,relief='ridge')\n",
    "loss_val=Label(window,text='Val.Loss',font=\"times 20 \",width=10,borderwidth=1,relief='ridge')\n",
    "result=Label(window,text='Result',font=\"times 20\",width=10,borderwidth=1,relief='ridge')\n",
    "\n",
    "output.grid(row=1,column=2)\n",
    "acc.grid(row=2, column=2)\n",
    "acc_val.grid(row=3, column=2)\n",
    "loss.grid(row=4, column=2)\n",
    "loss_val.grid(row=5, column=2)\n",
    "result.grid(row=6, column=2)\n"
   ]
  },
  {
   "cell_type": "code",
   "execution_count": 10,
   "metadata": {},
   "outputs": [
    {
     "ename": "NameError",
     "evalue": "name 'res_var' is not defined",
     "output_type": "error",
     "traceback": [
      "\u001b[1;31m---------------------------------------------------------------------------\u001b[0m",
      "\u001b[1;31mNameError\u001b[0m                                 Traceback (most recent call last)",
      "\u001b[1;32m<ipython-input-10-fa71bff3ea19>\u001b[0m in \u001b[0;36m<module>\u001b[1;34m\u001b[0m\n\u001b[0;32m      7\u001b[0m \u001b[1;31m#creat accuracy validation\u001b[0m\u001b[1;33m\u001b[0m\u001b[1;33m\u001b[0m\u001b[1;33m\u001b[0m\u001b[0m\n\u001b[0;32m      8\u001b[0m \u001b[0macc_val_var\u001b[0m\u001b[1;33m=\u001b[0m\u001b[0mIntVar\u001b[0m\u001b[1;33m(\u001b[0m\u001b[1;33m)\u001b[0m\u001b[1;33m\u001b[0m\u001b[1;33m\u001b[0m\u001b[0m\n\u001b[1;32m----> 9\u001b[1;33m \u001b[0macc_val_label\u001b[0m\u001b[1;33m=\u001b[0m\u001b[0mLabel\u001b[0m\u001b[1;33m(\u001b[0m\u001b[0mwindow\u001b[0m\u001b[1;33m,\u001b[0m\u001b[0mtextvariable\u001b[0m\u001b[1;33m=\u001b[0m\u001b[0mres_var\u001b[0m\u001b[1;33m,\u001b[0m\u001b[0mfont\u001b[0m\u001b[1;33m=\u001b[0m\u001b[1;34m\"times 20 bold\"\u001b[0m\u001b[1;33m,\u001b[0m\u001b[0mborderwidth\u001b[0m\u001b[1;33m=\u001b[0m\u001b[1;36m1\u001b[0m\u001b[1;33m,\u001b[0m\u001b[0mrelief\u001b[0m\u001b[1;33m=\u001b[0m\u001b[1;34m'solid'\u001b[0m\u001b[1;33m)\u001b[0m\u001b[1;33m\u001b[0m\u001b[1;33m\u001b[0m\u001b[0m\n\u001b[0m\u001b[0;32m     10\u001b[0m \u001b[0macc_val_label\u001b[0m\u001b[1;33m.\u001b[0m\u001b[0mgrid\u001b[0m\u001b[1;33m(\u001b[0m\u001b[0mcolumn\u001b[0m\u001b[1;33m=\u001b[0m\u001b[1;36m3\u001b[0m\u001b[1;33m,\u001b[0m \u001b[0mrow\u001b[0m\u001b[1;33m=\u001b[0m\u001b[1;36m3\u001b[0m\u001b[1;33m)\u001b[0m\u001b[1;33m\u001b[0m\u001b[1;33m\u001b[0m\u001b[0m\n\u001b[0;32m     11\u001b[0m \u001b[0macc_var\u001b[0m\u001b[1;33m.\u001b[0m\u001b[0mset\u001b[0m\u001b[1;33m(\u001b[0m\u001b[1;34m''\u001b[0m\u001b[1;33m)\u001b[0m\u001b[1;31m#cheack that is aplace for variable assined to it\u001b[0m\u001b[1;33m\u001b[0m\u001b[1;33m\u001b[0m\u001b[0m\n",
      "\u001b[1;31mNameError\u001b[0m: name 'res_var' is not defined"
     ]
    }
   ],
   "source": [
    "# creat strings (variablies)\n",
    "acc_var=IntVar()\n",
    "acc_label=Label(window,textvariable=acc_var,font=\"times 20 bold\",borderwidth=1,relief='solid')\n",
    "acc_label.grid(column=3, row=2)\n",
    "acc_var.set('') #cheack that is aplace for variable assined to it\n",
    "\n",
    "#creat accuracy validation\n",
    "acc_val_var=IntVar()\n",
    "acc_val_label=Label(window,textvariable=res_var,font=\"times 20 bold\",borderwidth=1,relief='solid')\n",
    "acc_val_label.grid(column=3, row=3)\n",
    "acc_var.set('')#cheack that is aplace for variable assined to it\n",
    "\n",
    "#creat loss\n",
    "loss_var=IntVar()\n",
    "loss_label=Label(window,textvariable=res_var,font=\"times 20 bold\",borderwidth=1,relief='solid')\n",
    "loss_label.grid(column=3, row=4)\n",
    "loss_var.set('')#cheack that is aplace for variable assined to it\n",
    "\n",
    "#creat loss validation \n",
    "loss_val_var=IntVar()\n",
    "loss_val_label=Label(window,textvariable=res_var,font=\"times 20 bold\",borderwidth=1,relief='solid')\n",
    "loss_val_label.grid(column=3, row=5)\n",
    "loss_val_var.set('')#cheack that is aplace for variable assined to it\n",
    "\n",
    "#creat result normal/abnormal\n",
    "res_var=StringVar()\n",
    "res_label=Label(window,textvariable=res_var,font=\"times 20 bold\",borderwidth=1,relief='solid')\n",
    "res_label.grid(column=3, row=6)\n",
    "res_var.set('normal')#cheack that is aplace for variable assined to it\n",
    "\n",
    "window.mainloop() # start the GUI event loop"
   ]
  },
  {
   "cell_type": "code",
   "execution_count": null,
   "metadata": {},
   "outputs": [],
   "source": []
  }
 ],
 "metadata": {
  "kernelspec": {
   "display_name": "Python 3",
   "language": "python",
   "name": "python3"
  },
  "language_info": {
   "codemirror_mode": {
    "name": "ipython",
    "version": 3
   },
   "file_extension": ".py",
   "mimetype": "text/x-python",
   "name": "python",
   "nbconvert_exporter": "python",
   "pygments_lexer": "ipython3",
   "version": "3.7.1"
  }
 },
 "nbformat": 4,
 "nbformat_minor": 2
}
